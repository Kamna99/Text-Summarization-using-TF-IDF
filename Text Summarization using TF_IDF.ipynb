{
 "cells": [
  {
   "cell_type": "code",
   "execution_count": 32,
   "metadata": {},
   "outputs": [],
   "source": [
    "import nltk\n",
    "import numpy\n",
    "import pandas\n",
    "import math\n",
    "import operator\n",
    "import os\n",
    "import re\n",
    "#nltk.download('averaged_perceptron_tagger')\n",
    "#nltk.download('punkt')\n",
    "#nltk.download('stopwords')\n",
    "#nltk.download('wordnet')\n",
    "from nltk.tokenize import sent_tokenize,word_tokenize\n",
    "from nltk.stem import WordNetLemmatizer\n",
    "lemmatizer = WordNetLemmatizer()\n",
    "from nltk.corpus import stopwords\n",
    "stopwords_set = set(stopwords.words('english'))\n"
   ]
  },
  {
   "cell_type": "code",
   "execution_count": 33,
   "metadata": {},
   "outputs": [
    {
     "name": "stdout",
     "output_type": "stream",
     "text": [
      "What is friendship? It is the purest form of relationship between two individual with no hidden agenda. As per the dictionary, friendship is the mutual affection between people. But, is it just a mutual affection? Not always, as in the case of best friends, it is far beyond that. Great friends share each otherâ€™s feelings or notions which bring a feeling of prosperity and mental fulfillment.\n",
      "\n",
      "A friend is a person whom one can know deeply, as and trust for eternity. Rather than having some likeness in the idea of two people associated with the friendship, they have some extraordinary qualities yet they want to be with each other without changing their uniqueness. By and large, friends spur each other without censuring, however at times great friends scrutinize do affect you in a positive manner.\n",
      "\n",
      "Importance of Friendship:\n",
      "\n",
      "It is very important to have a friend in life. Each friend is vital and their significance in known to us when certain circumstances emerge which must be supported by our friends. One can never feel lonely in this world on the off chance that he or she is embraced by true friends. Then again, depression wins in the lives of the individuals who donâ€™t have friends regardless of billions of individuals present on the planet. Friends are particularly vital amid times of emergency and hardships. On the off chance that you wind up experiencing a hard time, having a friend to help you through can make the change simpler.\n",
      "\n",
      "Having friends you can depend on can help your confidence. Then again, an absence of friends can make you feel lonely and without help, which makes you powerless for different issues, for example, sadness and drug abuse. Having no less than one individual you can depend on will formulate your confidence.\n",
      "\n",
      "Choosing Your Friends Wisely:\n",
      "\n",
      "Not all friends can instill the positivity in your life. There can be negative effects as well. It is very important to choose your friends with utmost wisdom. Picking the right friend is somewhat troublesome task however it is extremely important. In the event that for instance a couple of our dear friends are engaged with negative behaviour patterns, for example, smoking, drinking and taking drugs, at some point or another we will be attracted to their bad habits as well. This is the reason behind why it is appropriate to settle on an appropriate decision with regards to making friends.\n",
      "\n",
      "Genuine friendship is truly a gift delighted in by a couple. The individuals who have it ought to express gratitude toward God for having genuine pearls in their lives and the individuals who donâ€™t have a couple of good friends ought to always take a stab at better approaches to anchor great friends. No organization is superior to having a friend close by in the midst of need. You will stay cheerful in your one-room flat on the off chance that you are surrounded by your friends; then again, you canâ€™t discover satisfaction even in your estate in the event that you are far away from others.\n",
      "\n",
      "Types of Friends:\n",
      "\n",
      "There is variety everywhere, so why not in friends. We can see different types of friends during our journey of life. For instance, your best friend at school is someone with whom you just get along the most. That friend, especially in the case of girls, may just get annoyed even if you talk to another of your friend more than her. Such is the childish nature of such friendships that at times it is difficult for others to identify whether you are best friends or competitors.\n",
      "\n",
      "Then there is another category of your siblings. No matter how much you deny, but your siblings or your elder brother and sisters are those friends of yours who stay on with you for your entire life. You have a different set of friendship with them as you find yourself fighting with them most of the times. However, in times of need, you shall see that they are first ones standing behind you, supporting you.\n",
      "\n",
      "There is another category of friends called professional friends. You come across such friends only when you grow up and choose a profession for yourself. These friends are usually from the same organisation and prove to be helpful during your settling years. Some of them tend to stay on with you even when you change companies.\n",
      "\n",
      "Friendship Examples from History:\n",
      "\n",
      "History has always taught us a lot. Examples of true friendship are not far behind. We have some famous example from history which makes us realise the true value of friendship. The topmost of them are the Krishna and Sudama friendship. We all must have read or heard as to how after becoming a king when Krishna met Sudama, his childhood friend, he treated him with honour even though Sudama was a poor person. It teaches us the friendship need not be between equals. It has to be between likeminded people. Next example is of Karna and Duryodhana, again from the Mahabharat era.\n",
      "\n",
      "Despite knowing the fact that the Pandavas were his brothers, Karna went on to fight alongside Duryodhan as he is his best friend and even laid down his life for him. What more example of true friendship can one find? Again from the same era, Krishna and Arjun are also referred to as the best of the friends. Bhagavad Gita is an example of how a true friend can guide you towards positivity in life and make you follow the path of Dharma. Similarly, there are numerous examples from history which teach us the values of true friendship and the need to nourish such for own good.\n",
      "\n",
      "Conclusion:\n",
      "\n",
      "Whether you accept or deny it, a friend plays an important role in your life. In fact, it is very important to have a friend. However, at the same time, it is extremely important to choose the friends wisely as they are the ones who can build you or destroy you. Nonetheless, a friendâ€™s company is something which one enjoys all through life and friends should be treated as the best treasure a man can have.\n",
      "\n",
      "\n"
     ]
    }
   ],
   "source": [
    "f = open(\"input.txt\", \"r\")\n",
    "text = f.read()\n",
    "print(text)"
   ]
  },
  {
   "cell_type": "code",
   "execution_count": 34,
   "metadata": {},
   "outputs": [
    {
     "name": "stdout",
     "output_type": "stream",
     "text": [
      "Tokenized Sentences\n",
      "['What is friendship?', 'It is the purest form of relationship between two individual with no hidden agenda.', 'As per the dictionary, friendship is the mutual affection between people.', 'But, is it just a mutual affection?', 'Not always, as in the case of best friends, it is far beyond that.', 'Great friends share each otherâ€™s feelings or notions which bring a feeling of prosperity and mental fulfillment.', 'A friend is a person whom one can know deeply, as and trust for eternity.', 'Rather than having some likeness in the idea of two people associated with the friendship, they have some extraordinary qualities yet they want to be with each other without changing their uniqueness.', 'By and large, friends spur each other without censuring, however at times great friends scrutinize do affect you in a positive manner.', 'Importance of Friendship:  It is very important to have a friend in life.', 'Each friend is vital and their significance in known to us when certain circumstances emerge which must be supported by our friends.', 'One can never feel lonely in this world on the off chance that he or she is embraced by true friends.', 'Then again, depression wins in the lives of the individuals who donâ€™t have friends regardless of billions of individuals present on the planet.', 'Friends are particularly vital amid times of emergency and hardships.', 'On the off chance that you wind up experiencing a hard time, having a friend to help you through can make the change simpler.', 'Having friends you can depend on can help your confidence.', 'Then again, an absence of friends can make you feel lonely and without help, which makes you powerless for different issues, for example, sadness and drug abuse.', 'Having no less than one individual you can depend on will formulate your confidence.', 'Choosing Your Friends Wisely:  Not all friends can instill the positivity in your life.', 'There can be negative effects as well.', 'It is very important to choose your friends with utmost wisdom.', 'Picking the right friend is somewhat troublesome task however it is extremely important.', 'In the event that for instance a couple of our dear friends are engaged with negative behaviour patterns, for example, smoking, drinking and taking drugs, at some point or another we will be attracted to their bad habits as well.', 'This is the reason behind why it is appropriate to settle on an appropriate decision with regards to making friends.', 'Genuine friendship is truly a gift delighted in by a couple.', 'The individuals who have it ought to express gratitude toward God for having genuine pearls in their lives and the individuals who donâ€™t have a couple of good friends ought to always take a stab at better approaches to anchor great friends.', 'No organization is superior to having a friend close by in the midst of need.', 'You will stay cheerful in your one-room flat on the off chance that you are surrounded by your friends; then again, you canâ€™t discover satisfaction even in your estate in the event that you are far away from others.', 'Types of Friends:  There is variety everywhere, so why not in friends.', 'We can see different types of friends during our journey of life.', 'For instance, your best friend at school is someone with whom you just get along the most.', 'That friend, especially in the case of girls, may just get annoyed even if you talk to another of your friend more than her.', 'Such is the childish nature of such friendships that at times it is difficult for others to identify whether you are best friends or competitors.', 'Then there is another category of your siblings.', 'No matter how much you deny, but your siblings or your elder brother and sisters are those friends of yours who stay on with you for your entire life.', 'You have a different set of friendship with them as you find yourself fighting with them most of the times.', 'However, in times of need, you shall see that they are first ones standing behind you, supporting you.', 'There is another category of friends called professional friends.', 'You come across such friends only when you grow up and choose a profession for yourself.', 'These friends are usually from the same organisation and prove to be helpful during your settling years.', 'Some of them tend to stay on with you even when you change companies.', 'Friendship Examples from History:  History has always taught us a lot.', 'Examples of true friendship are not far behind.', 'We have some famous example from history which makes us realise the true value of friendship.', 'The topmost of them are the Krishna and Sudama friendship.', 'We all must have read or heard as to how after becoming a king when Krishna met Sudama, his childhood friend, he treated him with honour even though Sudama was a poor person.', 'It teaches us the friendship need not be between equals.', 'It has to be between likeminded people.', 'Next example is of Karna and Duryodhana, again from the Mahabharat era.', 'Despite knowing the fact that the Pandavas were his brothers, Karna went on to fight alongside Duryodhan as he is his best friend and even laid down his life for him.', 'What more example of true friendship can one find?', 'Again from the same era, Krishna and Arjun are also referred to as the best of the friends.', 'Bhagavad Gita is an example of how a true friend can guide you towards positivity in life and make you follow the path of Dharma.', 'Similarly, there are numerous examples from history which teach us the values of true friendship and the need to nourish such for own good.', 'Conclusion:  Whether you accept or deny it, a friend plays an important role in your life.', 'In fact, it is very important to have a friend.', 'However, at the same time, it is extremely important to choose the friends wisely as they are the ones who can build you or destroy you.', 'Nonetheless, a friendâ€™s company is something which one enjoys all through life and friends should be treated as the best treasure a man can have.']\n"
     ]
    }
   ],
   "source": [
    "print('Tokenized Sentences')\n",
    "#Remove Newlines\n",
    "text=text.strip().replace('\\n', ' ')\n",
    "#Convert entire text to tokenized sentences\n",
    "sentence_tokenized = sent_tokenize(text)\n",
    "print(sentence_tokenized)"
   ]
  },
  {
   "cell_type": "code",
   "execution_count": 35,
   "metadata": {},
   "outputs": [
    {
     "name": "stdout",
     "output_type": "stream",
     "text": [
      "Tokenized words including stopwords\n",
      "['What', 'is', 'friendship', 'It', 'is', 'the', 'purest', 'form', 'of', 'relationship', 'between', 'two', 'individual', 'with', 'no', 'hidden', 'agenda', 'As', 'per', 'the', 'dictionary', 'friendship', 'is', 'the', 'mutual', 'affection', 'between', 'people', 'But', 'is', 'it', 'just', 'a', 'mutual', 'affection', 'Not', 'always', 'as', 'in', 'the', 'case', 'of', 'best', 'friends', 'it', 'is', 'far', 'beyond', 'that', 'Great', 'friends', 'share', 'each', 'others', 'feelings', 'or', 'notions', 'which', 'bring', 'a', 'feeling', 'of', 'prosperity', 'and', 'mental', 'fulfillment', 'A', 'friend', 'is', 'a', 'person', 'whom', 'one', 'can', 'know', 'deeply', 'as', 'and', 'trust', 'for', 'eternity', 'Rather', 'than', 'having', 'some', 'likeness', 'in', 'the', 'idea', 'of', 'two', 'people', 'associated', 'with', 'the', 'friendship', 'they', 'have', 'some', 'extraordinary', 'qualities', 'yet', 'they', 'want', 'to', 'be', 'with', 'each', 'other', 'without', 'changing', 'their', 'uniqueness', 'By', 'and', 'large', 'friends', 'spur', 'each', 'other', 'without', 'censuring', 'however', 'at', 'times', 'great', 'friends', 'scrutinize', 'do', 'affect', 'you', 'in', 'a', 'positive', 'manner', 'Importance', 'of', 'Friendship', 'It', 'is', 'very', 'important', 'to', 'have', 'a', 'friend', 'in', 'life', 'Each', 'friend', 'is', 'vital', 'and', 'their', 'significance', 'in', 'known', 'to', 'us', 'when', 'certain', 'circumstances', 'emerge', 'which', 'must', 'be', 'supported', 'by', 'our', 'friends', 'One', 'can', 'never', 'feel', 'lonely', 'in', 'this', 'world', 'on', 'the', 'off', 'chance', 'that', 'he', 'or', 'she', 'is', 'embraced', 'by', 'true', 'friends', 'Then', 'again', 'depression', 'wins', 'in', 'the', 'lives', 'of', 'the', 'individuals', 'who', 'dont', 'have', 'friends', 'regardless', 'of', 'billions', 'of', 'individuals', 'present', 'on', 'the', 'planet', 'Friends', 'are', 'particularly', 'vital', 'amid', 'times', 'of', 'emergency', 'and', 'hardships', 'On', 'the', 'off', 'chance', 'that', 'you', 'wind', 'up', 'experiencing', 'a', 'hard', 'time', 'having', 'a', 'friend', 'to', 'help', 'you', 'through', 'can', 'make', 'the', 'change', 'simpler', 'Having', 'friends', 'you', 'can', 'depend', 'on', 'can', 'help', 'your', 'confidence', 'Then', 'again', 'an', 'absence', 'of', 'friends', 'can', 'make', 'you', 'feel', 'lonely', 'and', 'without', 'help', 'which', 'makes', 'you', 'powerless', 'for', 'different', 'issues', 'for', 'example', 'sadness', 'and', 'drug', 'abuse', 'Having', 'no', 'less', 'than', 'one', 'individual', 'you', 'can', 'depend', 'on', 'will', 'formulate', 'your', 'confidence', 'Choosing', 'Your', 'Friends', 'Wisely', 'Not', 'all', 'friends', 'can', 'instill', 'the', 'positivity', 'in', 'your', 'life', 'There', 'can', 'be', 'negative', 'effects', 'as', 'well', 'It', 'is', 'very', 'important', 'to', 'choose', 'your', 'friends', 'with', 'utmost', 'wisdom', 'Picking', 'the', 'right', 'friend', 'is', 'somewhat', 'troublesome', 'task', 'however', 'it', 'is', 'extremely', 'important', 'In', 'the', 'event', 'that', 'for', 'instance', 'a', 'couple', 'of', 'our', 'dear', 'friends', 'are', 'engaged', 'with', 'negative', 'behaviour', 'patterns', 'for', 'example', 'smoking', 'drinking', 'and', 'taking', 'drugs', 'at', 'some', 'point', 'or', 'another', 'we', 'will', 'be', 'attracted', 'to', 'their', 'bad', 'habits', 'as', 'well', 'This', 'is', 'the', 'reason', 'behind', 'why', 'it', 'is', 'appropriate', 'to', 'settle', 'on', 'an', 'appropriate', 'decision', 'with', 'regards', 'to', 'making', 'friends', 'Genuine', 'friendship', 'is', 'truly', 'a', 'gift', 'delighted', 'in', 'by', 'a', 'couple', 'The', 'individuals', 'who', 'have', 'it', 'ought', 'to', 'express', 'gratitude', 'toward', 'God', 'for', 'having', 'genuine', 'pearls', 'in', 'their', 'lives', 'and', 'the', 'individuals', 'who', 'dont', 'have', 'a', 'couple', 'of', 'good', 'friends', 'ought', 'to', 'always', 'take', 'a', 'stab', 'at', 'better', 'approaches', 'to', 'anchor', 'great', 'friends', 'No', 'organization', 'is', 'superior', 'to', 'having', 'a', 'friend', 'close', 'by', 'in', 'the', 'midst', 'of', 'need', 'You', 'will', 'stay', 'cheerful', 'in', 'your', 'oneroom', 'flat', 'on', 'the', 'off', 'chance', 'that', 'you', 'are', 'surrounded', 'by', 'your', 'friends', 'then', 'again', 'you', 'cant', 'discover', 'satisfaction', 'even', 'in', 'your', 'estate', 'in', 'the', 'event', 'that', 'you', 'are', 'far', 'away', 'from', 'others', 'Types', 'of', 'Friends', 'There', 'is', 'variety', 'everywhere', 'so', 'why', 'not', 'in', 'friends', 'We', 'can', 'see', 'different', 'types', 'of', 'friends', 'during', 'our', 'journey', 'of', 'life', 'For', 'instance', 'your', 'best', 'friend', 'at', 'school', 'is', 'someone', 'with', 'whom', 'you', 'just', 'get', 'along', 'the', 'most', 'That', 'friend', 'especially', 'in', 'the', 'case', 'of', 'girls', 'may', 'just', 'get', 'annoyed', 'even', 'if', 'you', 'talk', 'to', 'another', 'of', 'your', 'friend', 'more', 'than', 'her', 'Such', 'is', 'the', 'childish', 'nature', 'of', 'such', 'friendships', 'that', 'at', 'times', 'it', 'is', 'difficult', 'for', 'others', 'to', 'identify', 'whether', 'you', 'are', 'best', 'friends', 'or', 'competitors', 'Then', 'there', 'is', 'another', 'category', 'of', 'your', 'siblings', 'No', 'matter', 'how', 'much', 'you', 'deny', 'but', 'your', 'siblings', 'or', 'your', 'elder', 'brother', 'and', 'sisters', 'are', 'those', 'friends', 'of', 'yours', 'who', 'stay', 'on', 'with', 'you', 'for', 'your', 'entire', 'life', 'You', 'have', 'a', 'different', 'set', 'of', 'friendship', 'with', 'them', 'as', 'you', 'find', 'yourself', 'fighting', 'with', 'them', 'most', 'of', 'the', 'times', 'However', 'in', 'times', 'of', 'need', 'you', 'shall', 'see', 'that', 'they', 'are', 'first', 'ones', 'standing', 'behind', 'you', 'supporting', 'you', 'There', 'is', 'another', 'category', 'of', 'friends', 'called', 'professional', 'friends', 'You', 'come', 'across', 'such', 'friends', 'only', 'when', 'you', 'grow', 'up', 'and', 'choose', 'a', 'profession', 'for', 'yourself', 'These', 'friends', 'are', 'usually', 'from', 'the', 'same', 'organisation', 'and', 'prove', 'to', 'be', 'helpful', 'during', 'your', 'settling', 'years', 'Some', 'of', 'them', 'tend', 'to', 'stay', 'on', 'with', 'you', 'even', 'when', 'you', 'change', 'companies', 'Friendship', 'Examples', 'from', 'History', 'History', 'has', 'always', 'taught', 'us', 'a', 'lot', 'Examples', 'of', 'true', 'friendship', 'are', 'not', 'far', 'behind', 'We', 'have', 'some', 'famous', 'example', 'from', 'history', 'which', 'makes', 'us', 'realise', 'the', 'true', 'value', 'of', 'friendship', 'The', 'topmost', 'of', 'them', 'are', 'the', 'Krishna', 'and', 'Sudama', 'friendship', 'We', 'all', 'must', 'have', 'read', 'or', 'heard', 'as', 'to', 'how', 'after', 'becoming', 'a', 'king', 'when', 'Krishna', 'met', 'Sudama', 'his', 'childhood', 'friend', 'he', 'treated', 'him', 'with', 'honour', 'even', 'though', 'Sudama', 'was', 'a', 'poor', 'person', 'It', 'teaches', 'us', 'the', 'friendship', 'need', 'not', 'be', 'between', 'equals', 'It', 'has', 'to', 'be', 'between', 'likeminded', 'people', 'Next', 'example', 'is', 'of', 'Karna', 'and', 'Duryodhana', 'again', 'from', 'the', 'Mahabharat', 'era', 'Despite', 'knowing', 'the', 'fact', 'that', 'the', 'Pandavas', 'were', 'his', 'brothers', 'Karna', 'went', 'on', 'to', 'fight', 'alongside', 'Duryodhan', 'as', 'he', 'is', 'his', 'best', 'friend', 'and', 'even', 'laid', 'down', 'his', 'life', 'for', 'him', 'What', 'more', 'example', 'of', 'true', 'friendship', 'can', 'one', 'find', 'Again', 'from', 'the', 'same', 'era', 'Krishna', 'and', 'Arjun', 'are', 'also', 'referred', 'to', 'as', 'the', 'best', 'of', 'the', 'friends', 'Bhagavad', 'Gita', 'is', 'an', 'example', 'of', 'how', 'a', 'true', 'friend', 'can', 'guide', 'you', 'towards', 'positivity', 'in', 'life', 'and', 'make', 'you', 'follow', 'the', 'path', 'of', 'Dharma', 'Similarly', 'there', 'are', 'numerous', 'examples', 'from', 'history', 'which', 'teach', 'us', 'the', 'values', 'of', 'true', 'friendship', 'and', 'the', 'need', 'to', 'nourish', 'such', 'for', 'own', 'good', 'Conclusion', 'Whether', 'you', 'accept', 'or', 'deny', 'it', 'a', 'friend', 'plays', 'an', 'important', 'role', 'in', 'your', 'life', 'In', 'fact', 'it', 'is', 'very', 'important', 'to', 'have', 'a', 'friend', 'However', 'at', 'the', 'same', 'time', 'it', 'is', 'extremely', 'important', 'to', 'choose', 'the', 'friends', 'wisely', 'as', 'they', 'are', 'the', 'ones', 'who', 'can', 'build', 'you', 'or', 'destroy', 'you', 'Nonetheless', 'a', 'friends', 'company', 'is', 'something', 'which', 'one', 'enjoys', 'all', 'through', 'life', 'and', 'friends', 'should', 'be', 'treated', 'as', 'the', 'best', 'treasure', 'a', 'man', 'can', 'have']\n"
     ]
    }
   ],
   "source": [
    "print('Tokenized words including stopwords')\n",
    "#Remove special characters\n",
    "regex = r'[^a-zA-Z0-9\\s]'\n",
    "text = re.sub(regex,'',str(text))\n",
    "#Remove digits\n",
    "text = re.sub(r'\\d+', '', text)\n",
    "#Convert text to tokens\n",
    "words_tokenized_stopwords = word_tokenize(text)\n",
    "print(words_tokenized_stopwords)"
   ]
  },
  {
   "cell_type": "code",
   "execution_count": 36,
   "metadata": {},
   "outputs": [
    {
     "name": "stdout",
     "output_type": "stream",
     "text": [
      "Tokenized words without stop words, converted to lower case:\n",
      "['what', 'friendship', 'it', 'purest', 'form', 'relationship', 'two', 'individual', 'hidden', 'agenda', 'as', 'per', 'dictionary', 'friendship', 'mutual', 'affection', 'people', 'but', 'mutual', 'affection', 'not', 'always', 'case', 'best', 'friends', 'far', 'beyond', 'great', 'friends', 'share', 'others', 'feelings', 'notions', 'bring', 'feeling', 'prosperity', 'mental', 'fulfillment', 'friend', 'person', 'one', 'know', 'deeply', 'trust', 'eternity', 'rather', 'likeness', 'idea', 'two', 'people', 'associated', 'friendship', 'extraordinary', 'qualities', 'yet', 'want', 'without', 'changing', 'uniqueness', 'by', 'large', 'friends', 'spur', 'without', 'censuring', 'however', 'times', 'great', 'friends', 'scrutinize', 'affect', 'positive', 'manner', 'importance', 'friendship', 'it', 'important', 'friend', 'life', 'each', 'friend', 'vital', 'significance', 'known', 'us', 'certain', 'circumstances', 'emerge', 'must', 'supported', 'friends', 'one', 'never', 'feel', 'lonely', 'world', 'chance', 'embraced', 'true', 'friends', 'then', 'depression', 'wins', 'lives', 'individuals', 'dont', 'friends', 'regardless', 'billions', 'individuals', 'present', 'planet', 'friends', 'particularly', 'vital', 'amid', 'times', 'emergency', 'hardships', 'on', 'chance', 'wind', 'experiencing', 'hard', 'time', 'friend', 'help', 'make', 'change', 'simpler', 'having', 'friends', 'depend', 'help', 'confidence', 'then', 'absence', 'friends', 'make', 'feel', 'lonely', 'without', 'help', 'makes', 'powerless', 'different', 'issues', 'example', 'sadness', 'drug', 'abuse', 'having', 'less', 'one', 'individual', 'depend', 'formulate', 'confidence', 'choosing', 'your', 'friends', 'wisely', 'not', 'friends', 'instill', 'positivity', 'life', 'there', 'negative', 'effects', 'well', 'it', 'important', 'choose', 'friends', 'utmost', 'wisdom', 'picking', 'right', 'friend', 'somewhat', 'troublesome', 'task', 'however', 'extremely', 'important', 'in', 'event', 'instance', 'couple', 'dear', 'friends', 'engaged', 'negative', 'behaviour', 'patterns', 'example', 'smoking', 'drinking', 'taking', 'drugs', 'point', 'another', 'attracted', 'bad', 'habits', 'well', 'this', 'reason', 'behind', 'appropriate', 'settle', 'appropriate', 'decision', 'regards', 'making', 'friends', 'genuine', 'friendship', 'truly', 'gift', 'delighted', 'couple', 'the', 'individuals', 'ought', 'express', 'gratitude', 'toward', 'god', 'genuine', 'pearls', 'lives', 'individuals', 'dont', 'couple', 'good', 'friends', 'ought', 'always', 'take', 'stab', 'better', 'approaches', 'anchor', 'great', 'friends', 'no', 'organization', 'superior', 'friend', 'close', 'midst', 'need', 'you', 'stay', 'cheerful', 'oneroom', 'flat', 'chance', 'surrounded', 'friends', 'cant', 'discover', 'satisfaction', 'even', 'estate', 'event', 'far', 'away', 'others', 'types', 'friends', 'there', 'variety', 'everywhere', 'friends', 'we', 'see', 'different', 'types', 'friends', 'journey', 'life', 'for', 'instance', 'best', 'friend', 'school', 'someone', 'get', 'along', 'that', 'friend', 'especially', 'case', 'girls', 'may', 'get', 'annoyed', 'even', 'talk', 'another', 'friend', 'such', 'childish', 'nature', 'friendships', 'times', 'difficult', 'others', 'identify', 'whether', 'best', 'friends', 'competitors', 'then', 'another', 'category', 'siblings', 'no', 'matter', 'much', 'deny', 'siblings', 'elder', 'brother', 'sisters', 'friends', 'stay', 'entire', 'life', 'you', 'different', 'set', 'friendship', 'find', 'fighting', 'times', 'however', 'times', 'need', 'shall', 'see', 'first', 'ones', 'standing', 'behind', 'supporting', 'there', 'another', 'category', 'friends', 'called', 'professional', 'friends', 'you', 'come', 'across', 'friends', 'grow', 'choose', 'profession', 'these', 'friends', 'usually', 'organisation', 'prove', 'helpful', 'settling', 'years', 'some', 'tend', 'stay', 'even', 'change', 'companies', 'friendship', 'examples', 'history', 'history', 'always', 'taught', 'us', 'lot', 'examples', 'true', 'friendship', 'far', 'behind', 'we', 'famous', 'example', 'history', 'makes', 'us', 'realise', 'true', 'value', 'friendship', 'the', 'topmost', 'krishna', 'sudama', 'friendship', 'we', 'must', 'read', 'heard', 'becoming', 'king', 'krishna', 'met', 'sudama', 'childhood', 'friend', 'treated', 'honour', 'even', 'though', 'sudama', 'poor', 'person', 'it', 'teaches', 'us', 'friendship', 'need', 'equals', 'it', 'likeminded', 'people', 'next', 'example', 'karna', 'duryodhana', 'mahabharat', 'era', 'despite', 'knowing', 'fact', 'pandavas', 'brothers', 'karna', 'went', 'fight', 'alongside', 'duryodhan', 'best', 'friend', 'even', 'laid', 'life', 'what', 'example', 'true', 'friendship', 'one', 'find', 'again', 'era', 'krishna', 'arjun', 'also', 'referred', 'best', 'friends', 'bhagavad', 'gita', 'example', 'true', 'friend', 'guide', 'towards', 'positivity', 'life', 'make', 'follow', 'path', 'dharma', 'similarly', 'numerous', 'examples', 'history', 'teach', 'us', 'values', 'true', 'friendship', 'need', 'nourish', 'good', 'conclusion', 'whether', 'accept', 'deny', 'friend', 'plays', 'important', 'role', 'life', 'in', 'fact', 'important', 'friend', 'however', 'time', 'extremely', 'important', 'choose', 'friends', 'wisely', 'ones', 'build', 'destroy', 'nonetheless', 'friends', 'company', 'something', 'one', 'enjoys', 'life', 'friends', 'treated', 'best', 'treasure', 'man']\n"
     ]
    }
   ],
   "source": [
    "print(\"Tokenized words without stop words, converted to lower case:\")\n",
    "#Removing stopwords\n",
    "words_tokenized = [word for word in words_tokenized_stopwords if word not in stopwords_set]\n",
    "#Removing one letter words\n",
    "words_tokenized = [word for word in words_tokenized if len(word) > 1]\n",
    "#Convert all words to lowercase\n",
    "words_tokenized = [word.lower() for word in words_tokenized]\n",
    "print(words_tokenized)"
   ]
  },
  {
   "cell_type": "code",
   "execution_count": 37,
   "metadata": {},
   "outputs": [
    {
     "name": "stdout",
     "output_type": "stream",
     "text": [
      "Lemmatized Tokenized words:\n",
      "['what', 'friendship', 'it', 'purest', 'form', 'relationship', 'two', 'individual', 'hidden', 'agenda', 'a', 'per', 'dictionary', 'friendship', 'mutual', 'affection', 'people', 'but', 'mutual', 'affection', 'not', 'always', 'case', 'best', 'friend', 'far', 'beyond', 'great', 'friend', 'share', 'others', 'feeling', 'notion', 'bring', 'feeling', 'prosperity', 'mental', 'fulfillment', 'friend', 'person', 'one', 'know', 'deeply', 'trust', 'eternity', 'rather', 'likeness', 'idea', 'two', 'people', 'associated', 'friendship', 'extraordinary', 'quality', 'yet', 'want', 'without', 'changing', 'uniqueness', 'by', 'large', 'friend', 'spur', 'without', 'censuring', 'however', 'time', 'great', 'friend', 'scrutinize', 'affect', 'positive', 'manner', 'importance', 'friendship', 'it', 'important', 'friend', 'life', 'each', 'friend', 'vital', 'significance', 'known', 'u', 'certain', 'circumstance', 'emerge', 'must', 'supported', 'friend', 'one', 'never', 'feel', 'lonely', 'world', 'chance', 'embraced', 'true', 'friend', 'then', 'depression', 'win', 'life', 'individual', 'dont', 'friend', 'regardless', 'billion', 'individual', 'present', 'planet', 'friend', 'particularly', 'vital', 'amid', 'time', 'emergency', 'hardship', 'on', 'chance', 'wind', 'experiencing', 'hard', 'time', 'friend', 'help', 'make', 'change', 'simpler', 'having', 'friend', 'depend', 'help', 'confidence', 'then', 'absence', 'friend', 'make', 'feel', 'lonely', 'without', 'help', 'make', 'powerless', 'different', 'issue', 'example', 'sadness', 'drug', 'abuse', 'having', 'le', 'one', 'individual', 'depend', 'formulate', 'confidence', 'choosing', 'your', 'friend', 'wisely', 'not', 'friend', 'instill', 'positivity', 'life', 'there', 'negative', 'effect', 'well', 'it', 'important', 'choose', 'friend', 'utmost', 'wisdom', 'picking', 'right', 'friend', 'somewhat', 'troublesome', 'task', 'however', 'extremely', 'important', 'in', 'event', 'instance', 'couple', 'dear', 'friend', 'engaged', 'negative', 'behaviour', 'pattern', 'example', 'smoking', 'drinking', 'taking', 'drug', 'point', 'another', 'attracted', 'bad', 'habit', 'well', 'this', 'reason', 'behind', 'appropriate', 'settle', 'appropriate', 'decision', 'regard', 'making', 'friend', 'genuine', 'friendship', 'truly', 'gift', 'delighted', 'couple', 'the', 'individual', 'ought', 'express', 'gratitude', 'toward', 'god', 'genuine', 'pearl', 'life', 'individual', 'dont', 'couple', 'good', 'friend', 'ought', 'always', 'take', 'stab', 'better', 'approach', 'anchor', 'great', 'friend', 'no', 'organization', 'superior', 'friend', 'close', 'midst', 'need', 'you', 'stay', 'cheerful', 'oneroom', 'flat', 'chance', 'surrounded', 'friend', 'cant', 'discover', 'satisfaction', 'even', 'estate', 'event', 'far', 'away', 'others', 'type', 'friend', 'there', 'variety', 'everywhere', 'friend', 'we', 'see', 'different', 'type', 'friend', 'journey', 'life', 'for', 'instance', 'best', 'friend', 'school', 'someone', 'get', 'along', 'that', 'friend', 'especially', 'case', 'girl', 'may', 'get', 'annoyed', 'even', 'talk', 'another', 'friend', 'such', 'childish', 'nature', 'friendship', 'time', 'difficult', 'others', 'identify', 'whether', 'best', 'friend', 'competitor', 'then', 'another', 'category', 'sibling', 'no', 'matter', 'much', 'deny', 'sibling', 'elder', 'brother', 'sister', 'friend', 'stay', 'entire', 'life', 'you', 'different', 'set', 'friendship', 'find', 'fighting', 'time', 'however', 'time', 'need', 'shall', 'see', 'first', 'one', 'standing', 'behind', 'supporting', 'there', 'another', 'category', 'friend', 'called', 'professional', 'friend', 'you', 'come', 'across', 'friend', 'grow', 'choose', 'profession', 'these', 'friend', 'usually', 'organisation', 'prove', 'helpful', 'settling', 'year', 'some', 'tend', 'stay', 'even', 'change', 'company', 'friendship', 'example', 'history', 'history', 'always', 'taught', 'u', 'lot', 'example', 'true', 'friendship', 'far', 'behind', 'we', 'famous', 'example', 'history', 'make', 'u', 'realise', 'true', 'value', 'friendship', 'the', 'topmost', 'krishna', 'sudama', 'friendship', 'we', 'must', 'read', 'heard', 'becoming', 'king', 'krishna', 'met', 'sudama', 'childhood', 'friend', 'treated', 'honour', 'even', 'though', 'sudama', 'poor', 'person', 'it', 'teach', 'u', 'friendship', 'need', 'equal', 'it', 'likeminded', 'people', 'next', 'example', 'karna', 'duryodhana', 'mahabharat', 'era', 'despite', 'knowing', 'fact', 'pandavas', 'brother', 'karna', 'went', 'fight', 'alongside', 'duryodhan', 'best', 'friend', 'even', 'laid', 'life', 'what', 'example', 'true', 'friendship', 'one', 'find', 'again', 'era', 'krishna', 'arjun', 'also', 'referred', 'best', 'friend', 'bhagavad', 'gita', 'example', 'true', 'friend', 'guide', 'towards', 'positivity', 'life', 'make', 'follow', 'path', 'dharma', 'similarly', 'numerous', 'example', 'history', 'teach', 'u', 'value', 'true', 'friendship', 'need', 'nourish', 'good', 'conclusion', 'whether', 'accept', 'deny', 'friend', 'play', 'important', 'role', 'life', 'in', 'fact', 'important', 'friend', 'however', 'time', 'extremely', 'important', 'choose', 'friend', 'wisely', 'one', 'build', 'destroy', 'nonetheless', 'friend', 'company', 'something', 'one', 'enjoys', 'life', 'friend', 'treated', 'best', 'treasure', 'man']\n"
     ]
    }
   ],
   "source": [
    "print(\"Lemmatized Tokenized words:\")\n",
    "word_lemmatized = []\n",
    "for word in words_tokenized:\n",
    "    word_lemmatized.append(lemmatizer.lemmatize(word))\n",
    "words_tokenized = word_lemmatized\n",
    "print(words_tokenized)"
   ]
  },
  {
   "cell_type": "code",
   "execution_count": 38,
   "metadata": {},
   "outputs": [],
   "source": [
    "#Returns only nouns and verbs\n",
    "def tagging_pos(text):\n",
    "    tagger_pos = nltk.pos_tag(text.split())\n",
    "    tagger_pos_noun_verb = []\n",
    "    for word,tag in tagger_pos:\n",
    "        if tag == \"NN\" or tag == \"NNP\" or tag == \"NNS\" or tag == \"VB\" or tag == \"VBD\" or tag == \"VBG\" or tag == \"VBN\" or tag == \"VBP\" or tag == \"VBZ\":\n",
    "             tagger_pos_noun_verb.append(word)\n",
    "    return tagger_pos_noun_verb"
   ]
  },
  {
   "cell_type": "code",
   "execution_count": 39,
   "metadata": {},
   "outputs": [],
   "source": [
    "#Calculate frequency of each word\n",
    "def word_frequency(words):\n",
    "    words = [word.lower() for word in words]\n",
    "    frequency_dict = {}\n",
    "    unique_word = []\n",
    "    for word in words:\n",
    "        if word not in unique_word:\n",
    "            unique_word.append(word)\n",
    "    for word in unique_word:\n",
    "        frequency_dict[word] = words.count(word)\n",
    "    return frequency_dict"
   ]
  },
  {
   "cell_type": "code",
   "execution_count": 40,
   "metadata": {},
   "outputs": [],
   "source": [
    "#No of times a given word occurs in sentence divided by number of sentences\n",
    "def term_frequency(word,sentence):\n",
    "    sentence_l = len(sentence)\n",
    "    frequency_word_sentence = 0\n",
    "    for word_in_sentence in sentence.split():\n",
    "        if word == word_in_sentence:\n",
    "            frequency_word_sentence = frequency_word_sentence + 1\n",
    "    tf_score =  frequency_word_sentence/ sentence_l\n",
    "    return tf_score"
   ]
  },
  {
   "cell_type": "code",
   "execution_count": 41,
   "metadata": {},
   "outputs": [],
   "source": [
    "#Returns the total number of sentences by number of sentences containing the word and then taking a log10 of that value.\n",
    "def inverse_doc_freq(no_of_sentences,word,sentences):\n",
    "    nos_word = 0\n",
    "    for sentence in sentences:\n",
    "        regex = r'[^a-zA-Z0-9\\s]'\n",
    "        sentence = re.sub(regex,'',str(sentence))\n",
    "        sentence = re.sub(r'\\d+', '', sentence)\n",
    "        sentence = sentence.split()\n",
    "        sentence = [word for word in sentence if word.lower() not in stopwords_set and len(word)>1]\n",
    "        sentence = [word.lower() for word in sentence]\n",
    "        sentence = [lemmatizer.lemmatize(word) for word in sentence]\n",
    "        if word in sentence:\n",
    "            nos_word = nos_word + 1\n",
    "    idf_score = math.log10(no_of_sentences/nos_word)\n",
    "    return idf_score"
   ]
  },
  {
   "cell_type": "code",
   "execution_count": 42,
   "metadata": {},
   "outputs": [],
   "source": [
    "#Calculates TF_IDF score\n",
    "def tfidf_score(tf,idf):\n",
    "    return tf*idf"
   ]
  },
  {
   "cell_type": "code",
   "execution_count": 43,
   "metadata": {},
   "outputs": [],
   "source": [
    "#TF_IDF for the text\n",
    "def tfidf(dict_freq,word,sentences,sentence):\n",
    "    tf = term_frequency(word,sentence)\n",
    "    idf = inverse_doc_freq(len(sentences),word,sentences)\n",
    "    tf_idf = tfidf_score(tf,idf)\n",
    "    return tf_idf"
   ]
  },
  {
   "cell_type": "code",
   "execution_count": 44,
   "metadata": {},
   "outputs": [],
   "source": [
    "#Calculating the importance of a sentence\n",
    "def sentence_importance(sentence,dict_freq,sentences):\n",
    "    sentence_score = 0\n",
    "    regex = r'[^a-zA-Z0-9\\s]'\n",
    "    sentence = re.sub(regex,'',str(sentence))\n",
    "    sentence = re.sub(r'\\d+', '', sentence)\n",
    "    pos_sentence = [] \n",
    "    no_of_sentences = len(sentences)\n",
    "    pos_sentence = tagging_pos(sentence)\n",
    "    for word in pos_sentence:\n",
    "        if word.lower() not in stopwords_set and word not in stopwords_set and len(word)>1: \n",
    "            word = word.lower()\n",
    "            word = lemmatizer.lemmatize(word)\n",
    "            sentence_score = sentence_score + tfidf(dict_freq,word,sentences,sentence)\n",
    "    return sentence_score"
   ]
  },
  {
   "cell_type": "code",
   "execution_count": 45,
   "metadata": {},
   "outputs": [
    {
     "name": "stdout",
     "output_type": "stream",
     "text": [
      "\n",
      "\n",
      "Summary generated:\n",
      "As per the dictionary, friendship is the mutual affection between people. A friend is a person whom one can know deeply, as and trust for eternity. Rather than having some likeness in the idea of two people associated with the friendship, they have some extraordinary qualities yet they want to be with each other without changing their uniqueness. By and large, friends spur each other without censuring, however at times great friends scrutinize do affect you in a positive manner. Importance of Friendship:  It is very important to have a friend in life. Then again, depression wins in the lives of the individuals who donâ€™t have friends regardless of billions of individuals present on the planet. Having friends you can depend on can help your confidence. Then again, an absence of friends can make you feel lonely and without help, which makes you powerless for different issues, for example, sadness and drug abuse. Having no less than one individual you can depend on will formulate your confidence. Choosing Your Friends Wisely:  Not all friends can instill the positivity in your life. This is the reason behind why it is appropriate to settle on an appropriate decision with regards to making friends. The individuals who have it ought to express gratitude toward God for having genuine pearls in their lives and the individuals who donâ€™t have a couple of good friends ought to always take a stab at better approaches to anchor great friends. You will stay cheerful in your one-room flat on the off chance that you are surrounded by your friends; then again, you canâ€™t discover satisfaction even in your estate in the event that you are far away from others. Types of Friends:  There is variety everywhere, so why not in friends. That friend, especially in the case of girls, may just get annoyed even if you talk to another of your friend more than her. There is another category of friends called professional friends. These friends are usually from the same organisation and prove to be helpful during your settling years. Friendship Examples from History:  History has always taught us a lot. The topmost of them are the Krishna and Sudama friendship. It teaches us the friendship need not be between equals. Similarly, there are numerous examples from history which teach us the values of true friendship and the need to nourish such for own good. In fact, it is very important to have a friend.\n"
     ]
    },
    {
     "data": {
      "text/plain": [
       "2417"
      ]
     },
     "execution_count": 45,
     "metadata": {},
     "output_type": "execute_result"
    }
   ],
   "source": [
    "word_freq = word_frequency(words_tokenized)\n",
    "no_of_sentences = int((40 * len(sentence_tokenized))/100)\n",
    "c = 1\n",
    "sentence_with_importance = {}\n",
    "for sent in sentence_tokenized:\n",
    "    sentenceimp = sentence_importance(sent,word_freq,sentence_tokenized)\n",
    "    sentence_with_importance[c] = sentenceimp\n",
    "    c = c+1\n",
    "sentence_with_importance = sorted(sentence_with_importance.items(), key=operator.itemgetter(1),reverse=True)\n",
    "cnt = 0\n",
    "summary = []\n",
    "sentence_no = []\n",
    "#print(sentence_with_importance)\n",
    "for word_prob in sentence_with_importance:\n",
    "    if cnt < no_of_sentences:\n",
    "        sentence_no.append(word_prob[0])\n",
    "        cnt = cnt+1\n",
    "    else:\n",
    "        break\n",
    "sentence_no.sort()\n",
    "cnt = 0\n",
    "for sentence in sentence_tokenized:\n",
    "    if cnt in sentence_no:\n",
    "        summary.append(sentence)\n",
    "    cnt = cnt+1\n",
    "    \n",
    "summary = \" \".join(summary)\n",
    "print(\"\\n\")\n",
    "print(\"Summary generated:\")\n",
    "print(summary)\n",
    "\n",
    "outF = open('summary.txt',\"w\")\n",
    "outF.write(summary)\n"
   ]
  },
  {
   "cell_type": "code",
   "execution_count": null,
   "metadata": {},
   "outputs": [],
   "source": []
  }
 ],
 "metadata": {
  "kernelspec": {
   "display_name": "Python 3",
   "language": "python",
   "name": "python3"
  },
  "language_info": {
   "codemirror_mode": {
    "name": "ipython",
    "version": 3
   },
   "file_extension": ".py",
   "mimetype": "text/x-python",
   "name": "python",
   "nbconvert_exporter": "python",
   "pygments_lexer": "ipython3",
   "version": "3.7.6"
  }
 },
 "nbformat": 4,
 "nbformat_minor": 4
}
